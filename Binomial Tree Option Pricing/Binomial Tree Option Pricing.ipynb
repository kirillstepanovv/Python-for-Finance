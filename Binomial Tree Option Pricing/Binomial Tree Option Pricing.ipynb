{
 "cells": [
  {
   "cell_type": "code",
   "execution_count": 3,
   "id": "renewable-johns",
   "metadata": {},
   "outputs": [],
   "source": [
    "#IMPORTING NECESSARY PACKAGES \n",
    "import numpy as np "
   ]
  },
  {
   "cell_type": "code",
   "execution_count": 26,
   "metadata": {},
   "outputs": [],
   "source": [
    "\n",
    "def binomial_tree_option(N,T,S0,sigma,r,comp, K, call = True, array_out = False, compounding = True):\n",
    "    \"\"\" \n",
    "    Description\n",
    "    Binomial tree option pricing \n",
    "\n",
    "    Args: \n",
    "    N (int) = periods, \n",
    "    T (int) = time to maturity, \n",
    "    S0 (int/float) = spot price, \n",
    "    sigma (float) = volatility, \n",
    "    r (float) = interest rate, \n",
    "    comp (int) = compounding periods per year, \n",
    "    K (int/float) = strike price, \n",
    "    call (bool) = True(else put)\n",
    "    array_out = False just the price, else binomial tree, prices of the option in each period and the price as the output\n",
    "    compounding (bool) = True(continuous), else (not continuous)\n",
    "\n",
    "    Returns:\n",
    "    float: call OR put option price\n",
    "\n",
    "    \"\"\"\n",
    "\n",
    "    dt = T/N\n",
    "    u = np.exp(sigma*np.sqrt(dt))\n",
    "    d = 1/u\n",
    "\n",
    "    if compounding:\n",
    "        p = (np.exp(r*dt)-d)/(u-d)\n",
    "    else:\n",
    "        p = (((1+r/comp)**dt*comp)-d)/(u-d)\n",
    "    \n",
    "    #Binomial Tree\n",
    "    price_tree = np.zeros([N+1, N+1])\n",
    "    for i in range(N+1):\n",
    "        for j in range(i+1):\n",
    "            price_tree[j,i] = S0*(d**j)*(u**(i-j))\n",
    "    #Option value \n",
    "    option = np.zeros([N+1, N+1])\n",
    "    if call:\n",
    "        option[:,N] = np.maximum(np.zeros(N+1), price_tree[:,N]-K)\n",
    "    else:\n",
    "        option[:,N] = np.maximum(np.zeros(N+1), K - price_tree[:,N])\n",
    "    #Calculate option price at t = 0\n",
    "\n",
    "    for i in np.arange(N-1, -1,-1):\n",
    "        for j in np.arange(0,i+1):\n",
    "            if compounding: \n",
    "                option[j,i] = np.exp(-r*dt)*(p*option[j,i+1]+(1-p)*option[j+1, i+1])\n",
    "            else: \n",
    "                option[j,i] = (p*option[j,i+1]+(1-p)*option[j+1, i+1])/((1+r/comp)**dt*comp)\n",
    "    # Return\n",
    "    if array_out:\n",
    "        return[option[0,0], price_tree, option]\n",
    "    else: \n",
    "        return option[0,0]\n"
   ]
  },
  {
   "cell_type": "code",
   "execution_count": 27,
   "id": "owned-issue",
   "metadata": {},
   "outputs": [
    {
     "data": {
      "text/plain": [
       "1.3380184214015374"
      ]
     },
     "execution_count": 27,
     "metadata": {},
     "output_type": "execute_result"
    }
   ],
   "source": [
    "binomial_tree_option(N=4,T = 1,S0 = 100,sigma = 0.1,r = 0.03,comp = 1, K = 110, call = True, array_out = False, compounding = True)"
   ]
  },
  {
   "cell_type": "code",
   "execution_count": 50,
   "id": "double-shoulder",
   "metadata": {},
   "outputs": [],
   "source": [
    "\n",
    "def binomial_tree_call_put(N,T,S0,u, d, r,comp, K, call = True, array_out = False, compounding = True):\n",
    "    \"\"\" \n",
    "    Description:\n",
    " \n",
    "    Binomial tree option pricing with known up and down movements as percentage of spot price \n",
    "\n",
    "    Args: \n",
    "    N (int) = periods, \n",
    "    T (int) = time to maturity, \n",
    "    S0 (int/float) = spot price, \n",
    "    u (float) = up movement as percentage from the t-1 period, \n",
    "    d (float) = down movement as percentage from t-1 period, \n",
    "    sigma (float) = volatility, \n",
    "    r (float) = interest rate, \n",
    "    comp (int) = compounding periods per year, \n",
    "    K (int/float) = strike price, \n",
    "    call (bool) = True(else put)\n",
    "    array_out = False just the price, else binomial tree, prices of the option in each period and the price as the output\n",
    "    compounding (bool) = True(continuous), else (not continuous)\n",
    "\n",
    "    Returns:\n",
    "    float: call OR put option price\n",
    "\n",
    "    \"\"\"\n",
    "    u = 1 + u \n",
    "    d = 1 - d\n",
    "\n",
    "    dt = T/N\n",
    "\n",
    "    if compounding:\n",
    "        p = (np.exp(r*dt)-d)/(u-d)\n",
    "    else:\n",
    "        p = (((1+r/comp)**dt*comp)-d)/(u-d)\n",
    "    \n",
    "    #Binomial Tree\n",
    "    price_tree = np.zeros([N+1, N+1])\n",
    "    for i in range(N+1):\n",
    "        for j in range(i+1):\n",
    "            price_tree[j,i] = S0*(d**j)*(u**(i-j))\n",
    "    \n",
    "    #Option value \n",
    "    option = np.zeros([N+1, N+1])\n",
    "    if call:\n",
    "        option[:,N] = np.maximum(np.zeros(N+1), price_tree[:,N]-K)\n",
    "    else:\n",
    "        option[:,N] = np.maximum(np.zeros(N+1), K - price_tree[:,N])\n",
    "    \n",
    "    #Calculate option price at t = 0\n",
    "    for i in np.arange(N-1, -1,-1):\n",
    "        for j in np.arange(0,i+1):\n",
    "            if compounding: \n",
    "                option[j,i] = np.exp(-r*dt)*(p*option[j,i+1]+(1-p)*option[j+1, i+1])\n",
    "            else: \n",
    "                option[j,i] = (p*option[j,i+1]+(1-p)*option[j+1, i+1])/((1+r/comp)**dt*comp)\n",
    "    # Return\n",
    "    if array_out:\n",
    "        return[option[0,0], price_tree, option]\n",
    "    else: \n",
    "        return option[0,0]\n"
   ]
  },
  {
   "cell_type": "code",
   "execution_count": 51,
   "metadata": {},
   "outputs": [
    {
     "data": {
      "text/plain": [
       "18.29752066115703"
      ]
     },
     "execution_count": 51,
     "metadata": {},
     "output_type": "execute_result"
    }
   ],
   "source": [
    "binomial_tree_call_put(N=1,T = 2,S0 = 100,u = 0.3, d = 0.2,r = 0.1, comp = 1, K = 103, call = True, array_out = False, compounding = False)"
   ]
  },
  {
   "cell_type": "code",
   "execution_count": 54,
   "metadata": {},
   "outputs": [],
   "source": [
    "\n",
    "def binomial_tree_call_put_currency(N,T,S0,u, d, r, r_fc, comp, K, call = True, array_out = False, compounding = True):\n",
    "    \"\"\" \n",
    "    Description:\n",
    "\n",
    "    Binomial tree currency option pricing with known up and down movements as percentage of spot price \n",
    "\n",
    "    Args: \n",
    "    N (int) = periods, \n",
    "    T (int) = time to maturity, \n",
    "    S0 (int/float) = spot price, \n",
    "    u (float) = up movement as percentage of the t-1 period, \n",
    "    d (float) = down movement as percentage of t-1 period, \n",
    "    sigma (float) = volatility, \n",
    "    r (float) = interest rate domestic currency, \n",
    "    r_fc (float) = interest rate foreign currency\n",
    "    comp (int) = compounding periods per year, \n",
    "    K (int/float) = strike price, \n",
    "    call (bool) = True(else put)\n",
    "    array_out = False just the price, else binomial tree, prices of the option in each period and the price as the output\n",
    "    compounding (bool) = True(continuous), else (not continuous)\n",
    "\n",
    "    Returns:\n",
    "    float: call OR put option price\n",
    "\n",
    "\n",
    "    \"\"\"\n",
    "    u = 1 + u \n",
    "    d = 1 - d\n",
    "\n",
    "    dt = T/N\n",
    "    if compounding:\n",
    "        p = (np.exp(r*dt)-d)/(u-d)\n",
    "    else:\n",
    "        p = (((1+r_fc/comp)**(dt*comp))-d)/(u-d)\n",
    "    #Binomial Tree\n",
    "    price_tree = np.zeros([N+1, N+1])\n",
    "    for i in range(N+1):\n",
    "        for j in range(i+1):\n",
    "            price_tree[j,i] = S0*(d**j)*(u**(i-j))\n",
    "    #Option value \n",
    "    option = np.zeros([N+1, N+1])\n",
    "    if call:\n",
    "        option[:,N] = np.maximum(np.zeros(N+1), price_tree[:,N]-K)\n",
    "    else:\n",
    "        option[:,N] = np.maximum(np.zeros(N+1), K - price_tree[:,N])\n",
    "    #Calculate option price at t = 0\n",
    "    for i in np.arange(N-1, -1,-1):\n",
    "        for j in np.arange(0,i+1):\n",
    "            if compounding: \n",
    "                option[j,i] = np.exp(-r*dt)*(p*option[j,i+1]+(1-p)*option[j+1, i+1])\n",
    "            else: \n",
    "                option[j,i] = (p*option[j,i+1]+(1-p)*option[j+1, i+1])/((1+r/comp)**dt*comp)\n",
    "    # Return\n",
    "    if array_out:\n",
    "        return[option[0,0], price_tree, option]\n",
    "    else: \n",
    "\n",
    "        return option[0,0]\n"
   ]
  },
  {
   "cell_type": "code",
   "execution_count": 55,
   "metadata": {},
   "outputs": [
    {
     "data": {
      "text/plain": [
       "20.3305785123967"
      ]
     },
     "execution_count": 55,
     "metadata": {},
     "output_type": "execute_result"
    }
   ],
   "source": [
    "binomial_tree_call_put_currency(N=1,T = 2,S0 = 100,u = 0.3, d = 0.2,r = 0.1, r_fc = 0.1, comp = 1, K = 100, call = True, array_out = False, compounding = False)"
   ]
  },
  {
   "cell_type": "code",
   "execution_count": null,
   "metadata": {},
   "outputs": [],
   "source": []
  }
 ],
 "metadata": {
  "interpreter": {
   "hash": "31f2aee4e71d21fbe5cf8b01ff0e069b9275f58929596ceb00d14d90e3e16cd6"
  },
  "kernelspec": {
   "display_name": "Python 3.8.2 64-bit",
   "name": "python3"
  },
  "language_info": {
   "codemirror_mode": {
    "name": "ipython",
    "version": 3
   },
   "file_extension": ".py",
   "mimetype": "text/x-python",
   "name": "python",
   "nbconvert_exporter": "python",
   "pygments_lexer": "ipython3",
   "version": "3.8.2"
  }
 },
 "nbformat": 4,
 "nbformat_minor": 5
}
