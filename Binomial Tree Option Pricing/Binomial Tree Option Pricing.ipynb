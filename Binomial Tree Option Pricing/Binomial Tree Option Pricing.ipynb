{
 "cells": [
  {
   "cell_type": "code",
   "execution_count": 5,
   "id": "renewable-johns",
   "metadata": {},
   "outputs": [],
   "source": [
    "import numpy as np \n"
   ]
  },
  {
   "cell_type": "code",
   "execution_count": 6,
   "id": "designing-spine",
   "metadata": {},
   "outputs": [],
   "source": [
    "\n",
    "def binomial_tree_option(N,T,S0,sigma,r,comp, K, call = True, array_out = False, compounding = True):\n",
    "    \"\"\" Description\n",
    "\n",
    "    Binomial tree option pricing \n",
    "\n",
    "    Parameters \n",
    "\n",
    "    N = periods, T = time to maturity, S0 = spot price, sigma = volatility, r = interest rate, K = strike price, call = True(else put)\n",
    "    array_out = False just the price, else binomial tree, prices of the option in each period and the price as the output\n",
    "    compounding = True(continuous), else(not continuous)\n",
    "\n",
    "    Returns \n",
    "\n",
    "    Call OR put option price\n",
    "    \"\"\"\n",
    "    dt = T/N\n",
    "    u = np.exp(sigma*np.sqrt(dt))\n",
    "    d = 1/u\n",
    "    if compounding:\n",
    "        p = (np.exp(r*dt)-d)/(u-d)\n",
    "    else:\n",
    "        p = (((1+r/comp)**dt*comp)-d)/(u-d)\n",
    "    #Binomial Tree\n",
    "    price_tree = np.zeros([N+1, N+1])\n",
    "    for i in range(N+1):\n",
    "        for j in range(i+1):\n",
    "            price_tree[j,i] = S0*(d**j)*(u**(i-j))\n",
    "    #Option value \n",
    "    option = np.zeros([N+1, N+1])\n",
    "    if call:\n",
    "        option[:,N] = np.maximum(np.zeros(N+1), price_tree[:,N]-K)\n",
    "    else:\n",
    "        option[:,N] = np.maximum(np.zeros(N+1), K - price_tree[:,N])\n",
    "    #Calculate option price at t = 0\n",
    "\n",
    "    for i in np.arange(N-1, -1,-1):\n",
    "        for j in np.arange(0,i+1):\n",
    "            if compounding: \n",
    "                option[j,i] = np.exp(-r*dt)*(p*option[j,i+1]+(1-p)*option[j+1, i+1])\n",
    "            else: \n",
    "                option[j,i] = (p*option[j,i+1]+(1-p)*option[j+1, i+1])/((1+r/comp)**dt*comp)\n",
    "    # Return\n",
    "    if array_out:\n",
    "        return[option[0,0], price_tree, option]\n",
    "    else: \n",
    "        return option[0,0]\n"
   ]
  },
  {
   "cell_type": "code",
   "execution_count": 7,
   "id": "owned-issue",
   "metadata": {},
   "outputs": [
    {
     "output_type": "execute_result",
     "data": {
      "text/plain": [
       "1.3287736652343096"
      ]
     },
     "metadata": {},
     "execution_count": 7
    }
   ],
   "source": [
    "binomial_tree_option(N=4,T = 1,S0 = 100,sigma = 0.1,r = 0.03,comp = 1, K = 110, call = True, array_out = False, compounding = False)"
   ]
  },
  {
   "cell_type": "code",
   "execution_count": 8,
   "id": "double-shoulder",
   "metadata": {},
   "outputs": [],
   "source": [
    "\n",
    "def binomial_tree_call_put(N,T,S0,u, d, r,comp, K, call = True, array_out = False, compounding = True):\n",
    "    \"\"\" \n",
    "    Description:\n",
    "\n",
    "    Binomial tree option pricing \n",
    "\n",
    "    Parameters:\n",
    "\n",
    "    N = periods, T = time to maturity, S0 = spot price, u = up movement as percentage of the t-1 period, d = down movement as         percentage of t-1 period, r = interest rate, K = strike price, call = True(else put)\n",
    "\n",
    "    array_out = False just the price, else binomial tree, prices of the option in each period and the price as the output\n",
    "    \n",
    "    compounding = True(continuous), else(not continuous)\n",
    "\n",
    "    Returns:\n",
    "    Call OR put option price\n",
    "    \"\"\"\n",
    "    dt = T/N\n",
    "    print(dt)\n",
    "    if compounding:\n",
    "        p = (np.exp(r*dt)-d)/(u-d)\n",
    "    else:\n",
    "        p = (((1+r_fc/comp)**dt*comp)-d)/(u-d)\n",
    "    print(p)\n",
    "    #Binomial Tree\n",
    "    price_tree = np.zeros([N+1, N+1])\n",
    "    for i in range(N+1):\n",
    "        for j in range(i+1):\n",
    "            price_tree[j,i] = S0*(d**j)*(u**(i-j))\n",
    "    #Option value \n",
    "    option = np.zeros([N+1, N+1])\n",
    "    if call:\n",
    "        option[:,N] = np.maximum(np.zeros(N+1), price_tree[:,N]-K)\n",
    "    else:\n",
    "        option[:,N] = np.maximum(np.zeros(N+1), K - price_tree[:,N])\n",
    "    #Calculate option price at t = 0\n",
    "    for i in np.arange(N-1, -1,-1):\n",
    "        for j in np.arange(0,i+1):\n",
    "            if compounding: \n",
    "                option[j,i] = np.exp(-r*dt)*(p*option[j,i+1]+(1-p)*option[j+1, i+1])\n",
    "            else: \n",
    "                option[j,i] = (p*option[j,i+1]+(1-p)*option[j+1, i+1])/((1+r/comp)**dt*comp)\n",
    "    # Return\n",
    "    if array_out:\n",
    "        return[option[0,0], price_tree, option]\n",
    "    else: \n",
    "        return option[0,0]\n"
   ]
  },
  {
   "cell_type": "code",
   "execution_count": 9,
   "metadata": {},
   "outputs": [
    {
     "output_type": "stream",
     "name": "stdout",
     "text": [
      "2.0\n"
     ]
    },
    {
     "output_type": "error",
     "ename": "NameError",
     "evalue": "name 'r_fc' is not defined",
     "traceback": [
      "\u001b[0;31m---------------------------------------------------------------------------\u001b[0m",
      "\u001b[0;31mNameError\u001b[0m                                 Traceback (most recent call last)",
      "\u001b[0;32m<ipython-input-9-188b61763799>\u001b[0m in \u001b[0;36m<module>\u001b[0;34m\u001b[0m\n\u001b[0;32m----> 1\u001b[0;31m \u001b[0mbinomial_tree_call_put\u001b[0m\u001b[0;34m(\u001b[0m\u001b[0mN\u001b[0m\u001b[0;34m=\u001b[0m\u001b[0;36m1\u001b[0m\u001b[0;34m,\u001b[0m\u001b[0mT\u001b[0m \u001b[0;34m=\u001b[0m \u001b[0;36m2\u001b[0m\u001b[0;34m,\u001b[0m\u001b[0mS0\u001b[0m \u001b[0;34m=\u001b[0m \u001b[0;36m100\u001b[0m\u001b[0;34m,\u001b[0m\u001b[0mu\u001b[0m \u001b[0;34m=\u001b[0m \u001b[0;36m1.3\u001b[0m\u001b[0;34m,\u001b[0m \u001b[0md\u001b[0m \u001b[0;34m=\u001b[0m \u001b[0;36m0.8\u001b[0m\u001b[0;34m,\u001b[0m\u001b[0mr\u001b[0m \u001b[0;34m=\u001b[0m \u001b[0;36m0.1\u001b[0m\u001b[0;34m,\u001b[0m \u001b[0mcomp\u001b[0m \u001b[0;34m=\u001b[0m \u001b[0;36m1\u001b[0m\u001b[0;34m,\u001b[0m \u001b[0mK\u001b[0m \u001b[0;34m=\u001b[0m \u001b[0;36m103\u001b[0m\u001b[0;34m,\u001b[0m \u001b[0mcall\u001b[0m \u001b[0;34m=\u001b[0m \u001b[0;32mTrue\u001b[0m\u001b[0;34m,\u001b[0m \u001b[0marray_out\u001b[0m \u001b[0;34m=\u001b[0m \u001b[0;32mTrue\u001b[0m\u001b[0;34m,\u001b[0m \u001b[0mcompounding\u001b[0m \u001b[0;34m=\u001b[0m \u001b[0;32mFalse\u001b[0m\u001b[0;34m)\u001b[0m\u001b[0;34m\u001b[0m\u001b[0;34m\u001b[0m\u001b[0m\n\u001b[0m",
      "\u001b[0;32m<ipython-input-8-4142d32e8ed9>\u001b[0m in \u001b[0;36mbinomial_tree_call_put\u001b[0;34m(N, T, S0, u, d, r, comp, K, call, array_out, compounding)\u001b[0m\n\u001b[1;32m     21\u001b[0m         \u001b[0mp\u001b[0m \u001b[0;34m=\u001b[0m \u001b[0;34m(\u001b[0m\u001b[0mnp\u001b[0m\u001b[0;34m.\u001b[0m\u001b[0mexp\u001b[0m\u001b[0;34m(\u001b[0m\u001b[0mr\u001b[0m\u001b[0;34m*\u001b[0m\u001b[0mdt\u001b[0m\u001b[0;34m)\u001b[0m\u001b[0;34m-\u001b[0m\u001b[0md\u001b[0m\u001b[0;34m)\u001b[0m\u001b[0;34m/\u001b[0m\u001b[0;34m(\u001b[0m\u001b[0mu\u001b[0m\u001b[0;34m-\u001b[0m\u001b[0md\u001b[0m\u001b[0;34m)\u001b[0m\u001b[0;34m\u001b[0m\u001b[0;34m\u001b[0m\u001b[0m\n\u001b[1;32m     22\u001b[0m     \u001b[0;32melse\u001b[0m\u001b[0;34m:\u001b[0m\u001b[0;34m\u001b[0m\u001b[0;34m\u001b[0m\u001b[0m\n\u001b[0;32m---> 23\u001b[0;31m         \u001b[0mp\u001b[0m \u001b[0;34m=\u001b[0m \u001b[0;34m(\u001b[0m\u001b[0;34m(\u001b[0m\u001b[0;34m(\u001b[0m\u001b[0;36m1\u001b[0m\u001b[0;34m+\u001b[0m\u001b[0mr_fc\u001b[0m\u001b[0;34m/\u001b[0m\u001b[0mcomp\u001b[0m\u001b[0;34m)\u001b[0m\u001b[0;34m**\u001b[0m\u001b[0mdt\u001b[0m\u001b[0;34m*\u001b[0m\u001b[0mcomp\u001b[0m\u001b[0;34m)\u001b[0m\u001b[0;34m-\u001b[0m\u001b[0md\u001b[0m\u001b[0;34m)\u001b[0m\u001b[0;34m/\u001b[0m\u001b[0;34m(\u001b[0m\u001b[0mu\u001b[0m\u001b[0;34m-\u001b[0m\u001b[0md\u001b[0m\u001b[0;34m)\u001b[0m\u001b[0;34m\u001b[0m\u001b[0;34m\u001b[0m\u001b[0m\n\u001b[0m\u001b[1;32m     24\u001b[0m     \u001b[0mprint\u001b[0m\u001b[0;34m(\u001b[0m\u001b[0mp\u001b[0m\u001b[0;34m)\u001b[0m\u001b[0;34m\u001b[0m\u001b[0;34m\u001b[0m\u001b[0m\n\u001b[1;32m     25\u001b[0m     \u001b[0;31m#Binomial Tree\u001b[0m\u001b[0;34m\u001b[0m\u001b[0;34m\u001b[0m\u001b[0;34m\u001b[0m\u001b[0m\n",
      "\u001b[0;31mNameError\u001b[0m: name 'r_fc' is not defined"
     ]
    }
   ],
   "source": [
    "binomial_tree_call_put(N=1,T = 2,S0 = 100,u = 1.3, d = 0.8,r = 0.1, comp = 1, K = 103, call = True, array_out = True, compounding = False)"
   ]
  },
  {
   "cell_type": "code",
   "execution_count": 18,
   "metadata": {},
   "outputs": [],
   "source": [
    "\n",
    "def binomial_tree_call_put_currency(N,T,S0,u, d, r, r_fc, comp, K, call = True, array_out = False, compounding = True):\n",
    "    \"\"\" \n",
    "    Description:\n",
    "\n",
    "    Binomial tree option pricing \n",
    "\n",
    "    Parameters:\n",
    "\n",
    "    N = periods, T = time to maturity, S0 = spot price, u = up movement as percentage of the t-1 period, d = down movement as         percentage of t-1 period, r = interest rate, K = strike price, call = True(else put)\n",
    "\n",
    "    array_out = False just the price, else binomial tree, prices of the option in each period and the price as the output\n",
    "    \n",
    "    compounding = True(continuous), else(not continuous)\n",
    "\n",
    "    Returns:\n",
    "    Call OR put option price\n",
    "    \"\"\"\n",
    "    dt = T/N\n",
    "    print(dt)\n",
    "    if compounding:\n",
    "        p = (np.exp(r*dt)-d)/(u-d)\n",
    "    else:\n",
    "        p = (((1+r_fc/comp)**(dt*comp))-d)/(u-d)\n",
    "    print(p)\n",
    "    #Binomial Tree\n",
    "    price_tree = np.zeros([N+1, N+1])\n",
    "    for i in range(N+1):\n",
    "        for j in range(i+1):\n",
    "            price_tree[j,i] = S0*(d**j)*(u**(i-j))\n",
    "    #Option value \n",
    "    option = np.zeros([N+1, N+1])\n",
    "    if call:\n",
    "        option[:,N] = np.maximum(np.zeros(N+1), price_tree[:,N]-K)\n",
    "    else:\n",
    "        option[:,N] = np.maximum(np.zeros(N+1), K - price_tree[:,N])\n",
    "    #Calculate option price at t = 0\n",
    "    for i in np.arange(N-1, -1,-1):\n",
    "        for j in np.arange(0,i+1):\n",
    "            if compounding: \n",
    "                option[j,i] = np.exp(-r*dt)*(p*option[j,i+1]+(1-p)*option[j+1, i+1])\n",
    "            else: \n",
    "                option[j,i] = (p*option[j,i+1]+(1-p)*option[j+1, i+1])/((1+r/comp)**dt*comp)\n",
    "    # Return\n",
    "    if array_out:\n",
    "        return[option[0,0], price_tree, option]\n",
    "    else: \n",
    "\n",
    "        return option[0,0]\n",
    "        return option[0,0]\n"
   ]
  },
  {
   "cell_type": "code",
   "execution_count": 23,
   "metadata": {},
   "outputs": [
    {
     "output_type": "stream",
     "name": "stdout",
     "text": [
      "2.0\n0.8200000000000003\n"
     ]
    },
    {
     "output_type": "execute_result",
     "data": {
      "text/plain": [
       "[2.975206611570243,\n",
       " array([[100., 130.],\n",
       "        [  0.,  80.]]),\n",
       " array([[ 2.97520661,  0.        ],\n",
       "        [ 0.        , 20.        ]])]"
      ]
     },
     "metadata": {},
     "execution_count": 23
    }
   ],
   "source": [
    "binomial_tree_call_put_currency(N=1,T = 2,S0 = 100,u = 1.3, d = 0.8,r = 0.1, r_fc = 0.1, comp = 1, K = 100, call = False, array_out = True, compounding = False)"
   ]
  },
  {
   "cell_type": "code",
   "execution_count": null,
   "metadata": {},
   "outputs": [],
   "source": []
  }
 ],
 "metadata": {
  "kernelspec": {
   "name": "python3",
   "display_name": "Python 3.8.2 64-bit"
  },
  "language_info": {
   "codemirror_mode": {
    "name": "ipython",
    "version": 3
   },
   "file_extension": ".py",
   "mimetype": "text/x-python",
   "name": "python",
   "nbconvert_exporter": "python",
   "pygments_lexer": "ipython3",
   "version": "3.8.2"
  },
  "interpreter": {
   "hash": "31f2aee4e71d21fbe5cf8b01ff0e069b9275f58929596ceb00d14d90e3e16cd6"
  }
 },
 "nbformat": 4,
 "nbformat_minor": 5
}